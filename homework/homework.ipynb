{
 "cells": [
  {
   "cell_type": "code",
   "execution_count": null,
   "id": "7481a466",
   "metadata": {},
   "outputs": [],
   "source": [
    "import pandas as pd\n",
    "\n",
    "\n",
    "owner = \"jdvelasq\"\n",
    "repo = \"datalabs\"\n",
    "file = \"datasets/demanda_comercial.csv\"\n",
    "\n",
    "file_url = f\"https://raw.githubusercontent.com/{owner}/{repo}/master/{file}\"\n",
    "\n",
    "\n",
    "data = pd.read_csv(file_url, sep=\";\", decimal=\",\", thousands=\".\")\n",
    "data.head()"
   ]
  },
  {
   "cell_type": "code",
   "execution_count": null,
   "id": "ffa4ddbf",
   "metadata": {},
   "outputs": [],
   "source": [
    "data_to_plot = data.copy()\n",
    "data_to_plot = data_to_plot.melt(\n",
    "    id_vars=[\"Fecha\"], var_name=\"hora\", value_name=\"demanda\"\n",
    ")\n",
    "data_to_plot = data_to_plot.sort_values(by=[\"Fecha\", \"hora\"])\n",
    "data_to_plot = data_to_plot.reset_index(drop=True)\n",
    "data_to_plot = data_to_plot.head(500)\n",
    "data_to_plot.head()\n"
   ]
  },
  {
   "cell_type": "code",
   "execution_count": null,
   "id": "f5e1456f",
   "metadata": {},
   "outputs": [],
   "source": [
    "import os\n",
    "\n",
    "if not os.path.exists(\"../files/plots\"):\n",
    "    os.makedirs(\"../files/plots\")\n",
    "\n",
    "if not os.path.exists(\"../files/data\"):\n",
    "    os.makedirs(\"../files/data\")\n",
    "    "
   ]
  },
  {
   "cell_type": "code",
   "execution_count": null,
   "id": "9090d000",
   "metadata": {},
   "outputs": [],
   "source": [
    "import matplotlib.pyplot as plt\n",
    "\n",
    "plt.figure(figsize=(10, 6))\n",
    "plt.plot(data_to_plot[\"demanda\"])\n",
    "plt.title(\"Demanda comercial\")\n",
    "plt.xlabel(\"Tiempo\")\n",
    "plt.ylabel(\"Demanda\")\n",
    "plt.grid()\n",
    "plt.savefig(\"../files/plots/demanda-comercial.png\")\n",
    "plt.show()\n"
   ]
  },
  {
   "cell_type": "code",
   "execution_count": null,
   "id": "d3786197",
   "metadata": {},
   "outputs": [],
   "source": []
  },
  {
   "cell_type": "code",
   "execution_count": null,
   "id": "e34e0a26",
   "metadata": {},
   "outputs": [],
   "source": []
  }
 ],
 "metadata": {
  "kernelspec": {
   "display_name": ".venv",
   "language": "python",
   "name": "python3"
  },
  "language_info": {
   "name": "python",
   "version": "3.13.1"
  }
 },
 "nbformat": 4,
 "nbformat_minor": 5
}
